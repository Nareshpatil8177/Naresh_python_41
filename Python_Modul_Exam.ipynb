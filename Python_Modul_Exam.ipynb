{
 "cells": [
  {
   "cell_type": "code",
   "execution_count": 15,
   "id": "f0df1617-fa60-4e94-9368-4d1299fec48f",
   "metadata": {},
   "outputs": [
    {
     "name": "stdout",
     "output_type": "stream",
     "text": [
      "Welcome to the Inventory\n",
      "1.Electronics\n",
      "2.clothind\n",
      "3.groceries\n",
      "0.exit\n"
     ]
    },
    {
     "name": "stdin",
     "output_type": "stream",
     "text": [
      "Enter your choise 2\n"
     ]
    },
    {
     "name": "stdout",
     "output_type": "stream",
     "text": [
      "2.clothin item selected\n",
      "Welcome to the Inventory\n",
      "1.Electronics\n",
      "2.clothind\n",
      "3.groceries\n",
      "0.exit\n"
     ]
    },
    {
     "name": "stdin",
     "output_type": "stream",
     "text": [
      "Enter your choise 3\n"
     ]
    },
    {
     "name": "stdout",
     "output_type": "stream",
     "text": [
      "3.groceries item selected\n",
      "Welcome to the Inventory\n",
      "1.Electronics\n",
      "2.clothind\n",
      "3.groceries\n",
      "0.exit\n"
     ]
    },
    {
     "name": "stdin",
     "output_type": "stream",
     "text": [
      "Enter your choise 3\n"
     ]
    },
    {
     "name": "stdout",
     "output_type": "stream",
     "text": [
      "3.groceries item selected\n",
      "Welcome to the Inventory\n",
      "1.Electronics\n",
      "2.clothind\n",
      "3.groceries\n",
      "0.exit\n"
     ]
    },
    {
     "name": "stdin",
     "output_type": "stream",
     "text": [
      "Enter your choise 1\n"
     ]
    },
    {
     "name": "stdout",
     "output_type": "stream",
     "text": [
      "Electronic item selected\n",
      "Welcome to the Inventory\n",
      "1.Electronics\n",
      "2.clothind\n",
      "3.groceries\n",
      "0.exit\n"
     ]
    },
    {
     "name": "stdin",
     "output_type": "stream",
     "text": [
      "Enter your choise 2\n"
     ]
    },
    {
     "name": "stdout",
     "output_type": "stream",
     "text": [
      "2.clothin item selected\n",
      "Welcome to the Inventory\n",
      "1.Electronics\n",
      "2.clothind\n",
      "3.groceries\n",
      "0.exit\n"
     ]
    },
    {
     "name": "stdin",
     "output_type": "stream",
     "text": [
      "Enter your choise 1\n"
     ]
    },
    {
     "name": "stdout",
     "output_type": "stream",
     "text": [
      "Electronic item selected\n",
      "Welcome to the Inventory\n",
      "1.Electronics\n",
      "2.clothind\n",
      "3.groceries\n",
      "0.exit\n"
     ]
    },
    {
     "name": "stdin",
     "output_type": "stream",
     "text": [
      "Enter your choise 3\n"
     ]
    },
    {
     "name": "stdout",
     "output_type": "stream",
     "text": [
      "3.groceries item selected\n",
      "Welcome to the Inventory\n",
      "1.Electronics\n",
      "2.clothind\n",
      "3.groceries\n",
      "0.exit\n"
     ]
    },
    {
     "name": "stdin",
     "output_type": "stream",
     "text": [
      "Enter your choise 2\n"
     ]
    },
    {
     "name": "stdout",
     "output_type": "stream",
     "text": [
      "2.clothin item selected\n",
      "Welcome to the Inventory\n",
      "1.Electronics\n",
      "2.clothind\n",
      "3.groceries\n",
      "0.exit\n"
     ]
    },
    {
     "name": "stdin",
     "output_type": "stream",
     "text": [
      "Enter your choise 1\n"
     ]
    },
    {
     "name": "stdout",
     "output_type": "stream",
     "text": [
      "Electronic item selected\n",
      "Welcome to the Inventory\n",
      "1.Electronics\n",
      "2.clothind\n",
      "3.groceries\n",
      "0.exit\n"
     ]
    },
    {
     "name": "stdin",
     "output_type": "stream",
     "text": [
      "Enter your choise 0\n"
     ]
    },
    {
     "name": "stdout",
     "output_type": "stream",
     "text": [
      "exit the inventory\n",
      "-----------------------------------\n",
      "sales electonics 3 ,Total == 300\n",
      "sales clothing 3 ,Total == 450\n",
      "sales groceries 3 ,Total == 600\n",
      "Toatl sales == 1350\n"
     ]
    }
   ],
   "source": [
    "#Inventory_manegment_system\n",
    "price_electronics =100\n",
    "price_clothing=150\n",
    "price_groceries=200\n",
    "\n",
    "count_electonics=0\n",
    "count_clothing=0\n",
    "count_groceries=0\n",
    "\n",
    "while True:\n",
    "    print(\"Welcome to the Inventory\")\n",
    "    print(\"1.Electronics\")\n",
    "    print(\"2.clothind\")\n",
    "    print(\"3.groceries\")\n",
    "    print(\"0.exit\")\n",
    "    print(\"select the options\")\n",
    "    choose=int(input(\"Enter your choise\"))\n",
    "\n",
    "    if choose==1:\n",
    "        print(\"Electronic item selected\")\n",
    "        count_electonics+=1\n",
    "    elif choose==2:\n",
    "        print(\"2.clothin item selected\")\n",
    "        count_clothing+=1\n",
    "    elif choose==3:\n",
    "        print(\"3.groceries item selected\")\n",
    "        count_groceries+=1\n",
    "    elif choose==0:\n",
    "        print(\"exit the inventory\")\n",
    "        break\n",
    "    else:\n",
    "        print(\"plese select valid option\")\n",
    "        break\n",
    "\n",
    "Total_sales =(price_electronics*count_electonics) + (price_electronics*count_electonics + (price_groceries*count_groceries)\n",
    "print(\"--------------Sales Report-------------------\")\n",
    "print(\"sales electonics\" ,count_electonics ,\",Total ==\",price_electronics*count_electonics)\n",
    "print(\"sales clothing\", count_clothing ,\",Total ==\" ,price_clothing*count_clothing)\n",
    "print(\"sales groceries\" ,count_groceries,\",Total ==\",price_groceries*count_groceries)\n",
    "\n",
    "print(\"Toatl sales ==\", Total_sales)\n",
    "\n",
    "        \n",
    "    \n",
    "    \n",
    "\n",
    "\n",
    "    \n",
    "              \n",
    "    "
   ]
  },
  {
   "cell_type": "code",
   "execution_count": 85,
   "id": "aa10b6cc-4ff6-4b84-8bd8-623f9e711419",
   "metadata": {},
   "outputs": [
    {
     "name": "stdin",
     "output_type": "stream",
     "text": [
      "Enter string to check panagram price_electronics*count_electonics\n"
     ]
    },
    {
     "ename": "NameError",
     "evalue": "name 'sort_pangram' is not defined",
     "output_type": "error",
     "traceback": [
      "\u001b[1;31m---------------------------------------------------------------------------\u001b[0m",
      "\u001b[1;31mNameError\u001b[0m                                 Traceback (most recent call last)",
      "Cell \u001b[1;32mIn[85], line 13\u001b[0m\n\u001b[0;32m     11\u001b[0m     \u001b[38;5;28;01mreturn\u001b[39;00m list1        \n\u001b[0;32m     12\u001b[0m panagram\u001b[38;5;241m=\u001b[39m\u001b[38;5;28minput\u001b[39m(\u001b[38;5;124m\"\u001b[39m\u001b[38;5;124mEnter string to check panagram\u001b[39m\u001b[38;5;124m\"\u001b[39m)\n\u001b[1;32m---> 13\u001b[0m \u001b[38;5;28mprint\u001b[39m(find_missing(panagram))\n",
      "Cell \u001b[1;32mIn[85], line 5\u001b[0m, in \u001b[0;36mfind_missing\u001b[1;34m(panagram)\u001b[0m\n\u001b[0;32m      3\u001b[0m len_panagram\u001b[38;5;241m=\u001b[39m\u001b[38;5;28mlen\u001b[39m(panagram)\n\u001b[0;32m      4\u001b[0m sort_panagram\u001b[38;5;241m=\u001b[39m\u001b[38;5;28msorted\u001b[39m(panagram)\n\u001b[1;32m----> 5\u001b[0m len_sort_panagram\u001b[38;5;241m=\u001b[39m\u001b[38;5;28mlen\u001b[39m(sort_pangram)\n\u001b[0;32m      6\u001b[0m \u001b[38;5;28;01mif\u001b[39;00m len_panagram\u001b[38;5;241m==\u001b[39mlen_sort_panagram:\n\u001b[0;32m      7\u001b[0m     \u001b[38;5;28mprint\u001b[39m(\u001b[38;5;124m\"\u001b[39m\u001b[38;5;124mpanagram\u001b[39m\u001b[38;5;124m\"\u001b[39m)\n",
      "\u001b[1;31mNameError\u001b[0m: name 'sort_pangram' is not defined"
     ]
    }
   ],
   "source": [
    "#missing characters to form a panagram\n",
    "def find_missing(panagram):\n",
    "    len_panagram=len(panagram)\n",
    "    sort_panagram=sorted(panagram)\n",
    "    len_sort_panagram=len(sort_panagram)\n",
    "    if len_panagram==len_sort_panagram:\n",
    "        print(\"panagram\")\n",
    "    else:\n",
    "        print(\"not panagram\")\n",
    "            \n",
    "    return list1        \n",
    "panagram=input(\"Enter string to check panagram\")\n",
    "print(find_missing(panagram))"
   ]
  }
 ],
 "metadata": {
  "kernelspec": {
   "display_name": "Python [conda env:base] *",
   "language": "python",
   "name": "conda-base-py"
  },
  "language_info": {
   "codemirror_mode": {
    "name": "ipython",
    "version": 3
   },
   "file_extension": ".py",
   "mimetype": "text/x-python",
   "name": "python",
   "nbconvert_exporter": "python",
   "pygments_lexer": "ipython3",
   "version": "3.12.7"
  }
 },
 "nbformat": 4,
 "nbformat_minor": 5
}
